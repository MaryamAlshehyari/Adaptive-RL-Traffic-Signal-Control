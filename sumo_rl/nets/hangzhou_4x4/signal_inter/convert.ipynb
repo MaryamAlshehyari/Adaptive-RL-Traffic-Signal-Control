{
 "cells": [
  {
   "cell_type": "code",
   "execution_count": 2,
   "metadata": {},
   "outputs": [
    {
     "name": "stdout",
     "output_type": "stream",
     "text": [
      "✅ Converted all signal files to signal_logic.add.xml\n",
      "📎 Use it with SUMO like this:\n",
      "   sumo -n hangzhou.net.xml -r hangzhou.rou.xml --additional-files signal_logic.add.xml\n"
     ]
    }
   ],
   "source": [
    "import os\n",
    "from glob import glob\n",
    "\n",
    "def convert_signal_file_to_tlLogic(inter_id, lines):\n",
    "    lines = [line.strip() for line in lines if line.strip()]\n",
    "    logic_template = f'  <tlLogic id=\"{inter_id}\" type=\"static\" programID=\"0\" offset=\"0\">\\n'\n",
    "    for i in range(0, len(lines), 2):\n",
    "        if i + 1 < len(lines):\n",
    "            start_time, phase_start = lines[i].split(\",\")\n",
    "            end_time, phase_end = lines[i + 1].split(\",\")\n",
    "            duration = float(end_time) - float(start_time)\n",
    "            phase_id = int(float(phase_start))\n",
    "            # Just for now, we'll generate a placeholder state string\n",
    "            # You can improve the mapping later (like full GGr, rGr, etc.)\n",
    "            logic_template += f'    <phase duration=\"{int(duration)}\" state=\"{phase_id * \"G\" + (4 - phase_id) * \"r\"}\"/>\\n'\n",
    "    logic_template += f'  </tlLogic>\\n'\n",
    "    return logic_template\n",
    "\n",
    "out_file = \"signal_logic.add.xml\"\n",
    "with open(out_file, \"w\") as f:\n",
    "    f.write('<additional>\\n')\n",
    "\n",
    "    for txt_file in sorted(glob(\"signal_inter_intersection_*.txt\")):\n",
    "        inter_id = txt_file.replace(\"signal_inter_\", \"\").replace(\".txt\", \"\")\n",
    "        with open(txt_file) as tf:\n",
    "            lines = tf.readlines()\n",
    "        f.write(convert_signal_file_to_tlLogic(inter_id, lines))\n",
    "\n",
    "    f.write('</additional>\\n')\n",
    "\n",
    "print(f\"✅ Converted all signal files to {out_file}\")\n",
    "print(\"📎 Use it with SUMO like this:\")\n",
    "print(\"   sumo -n hangzhou.net.xml -r hangzhou.rou.xml --additional-files signal_logic.add.xml\")\n"
   ]
  },
  {
   "cell_type": "code",
   "execution_count": null,
   "metadata": {},
   "outputs": [],
   "source": []
  }
 ],
 "metadata": {
  "kernelspec": {
   "display_name": "Python 3",
   "language": "python",
   "name": "python3"
  },
  "language_info": {
   "codemirror_mode": {
    "name": "ipython",
    "version": 3
   },
   "file_extension": ".py",
   "mimetype": "text/x-python",
   "name": "python",
   "nbconvert_exporter": "python",
   "pygments_lexer": "ipython3",
   "version": "3.11.10"
  },
  "orig_nbformat": 4
 },
 "nbformat": 4,
 "nbformat_minor": 2
}
