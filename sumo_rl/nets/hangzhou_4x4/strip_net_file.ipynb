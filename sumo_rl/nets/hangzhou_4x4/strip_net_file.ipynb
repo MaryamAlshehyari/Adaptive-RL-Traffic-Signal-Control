{
 "cells": [
  {
   "cell_type": "code",
   "execution_count": 8,
   "metadata": {},
   "outputs": [
    {
     "name": "stdout",
     "output_type": "stream",
     "text": [
      "✅ Cleaned XML written to: hangzhou_minimal.net.xml\n"
     ]
    }
   ],
   "source": [
    "from lxml import etree\n",
    "\n",
    "input_file = \"hangzhou_from_json.net.xml\"\n",
    "output_file = \"hangzhou_minimal.net.xml\"\n",
    "\n",
    "TARGET_TLS = \"intersection_1_1\"\n",
    "\n",
    "tree = etree.parse(input_file)\n",
    "root = tree.getroot()\n",
    "\n",
    "# Tags we care about keeping only for the target intersection\n",
    "tags_to_filter = [\"tlLogic\", \"junction\", \"connection\", \"edge\", \"lane\"]\n",
    "\n",
    "def is_related(elem):\n",
    "    id_attr = elem.get(\"id\")\n",
    "    from_attr = elem.get(\"from\")\n",
    "    to_attr = elem.get(\"to\")\n",
    "    tl_attr = elem.get(\"tl\")\n",
    "    \n",
    "    return (\n",
    "        (id_attr and TARGET_TLS in id_attr) or\n",
    "        (from_attr and TARGET_TLS in from_attr) or\n",
    "        (to_attr and TARGET_TLS in to_attr) or\n",
    "        (tl_attr and tl_attr == TARGET_TLS)\n",
    "    )\n",
    "\n",
    "# Step 1: Filter everything unrelated\n",
    "for elem in list(root):\n",
    "    if elem.tag in tags_to_filter and not is_related(elem):\n",
    "        root.remove(elem)\n",
    "\n",
    "# Step 2: Save the new file\n",
    "tree.write(output_file, pretty_print=True, xml_declaration=True, encoding=\"UTF-8\")\n",
    "print(f\"✅ Cleaned XML written to: {output_file}\")\n"
   ]
  },
  {
   "cell_type": "code",
   "execution_count": 2,
   "metadata": {},
   "outputs": [
    {
     "name": "stdout",
     "output_type": "stream",
     "text": [
      "Collecting lxml\n",
      "  Downloading lxml-5.3.2-cp311-cp311-manylinux_2_28_x86_64.whl.metadata (3.6 kB)\n",
      "Downloading lxml-5.3.2-cp311-cp311-manylinux_2_28_x86_64.whl (5.0 MB)\n",
      "\u001b[2K   \u001b[38;2;114;156;31m━━━━━━━━━━━━━━━━━━━━━━━━━━━━━━━━━━━━━━━━\u001b[0m \u001b[32m5.0/5.0 MB\u001b[0m \u001b[31m15.5 MB/s\u001b[0m eta \u001b[36m0:00:00\u001b[0m31m12.8 MB/s\u001b[0m eta \u001b[36m0:00:01\u001b[0m\n",
      "\u001b[?25hInstalling collected packages: lxml\n",
      "Successfully installed lxml-5.3.2\n",
      "Note: you may need to restart the kernel to use updated packages.\n"
     ]
    }
   ],
   "source": [
    "pip install lxml\n"
   ]
  },
  {
   "cell_type": "code",
   "execution_count": 10,
   "metadata": {},
   "outputs": [
    {
     "name": "stdout",
     "output_type": "stream",
     "text": [
      "✅ Cleaned route file saved: hangzhou_minimal.rou.xml\n"
     ]
    }
   ],
   "source": [
    "from lxml import etree\n",
    "\n",
    "# Load the original route file\n",
    "input_file = \"hangzhou_from_json.rou.xml\"\n",
    "output_file = \"hangzhou_minimal.rou.xml\"\n",
    "\n",
    "# Define valid edge IDs related to intersection_1_1\n",
    "valid_edges = {\n",
    "    \"road_1_0_1\", \"road_1_1_0\", \"road_1_1_1\", \"road_1_1_2\", \"road_1_1_3\",\n",
    "    \"road_1_2_3\", \"road_0_1_0\", \"road_2_1_2\"\n",
    "}\n",
    "\n",
    "# Parse the XML\n",
    "tree = etree.parse(input_file)\n",
    "root = tree.getroot()\n",
    "\n",
    "# Loop through vehicle elements and filter\n",
    "for vehicle in root.findall(\"vehicle\"):\n",
    "    route = vehicle.find(\"route\")\n",
    "    if route is not None:\n",
    "        edge_list = route.get(\"edges\").split()\n",
    "        if any(edge.split(\"_\")[0:4] and \"_\".join(edge.split(\"_\")[0:4]) not in valid_edges for edge in edge_list):\n",
    "            root.remove(vehicle)\n",
    "\n",
    "# Save the cleaned route file\n",
    "tree.write(output_file, pretty_print=True, xml_declaration=True, encoding=\"UTF-8\")\n",
    "print(\"✅ Cleaned route file saved:\", output_file)\n"
   ]
  },
  {
   "cell_type": "code",
   "execution_count": 5,
   "metadata": {},
   "outputs": [
    {
     "name": "stdout",
     "output_type": "stream",
     "text": [
      "✅ Found 8 valid edges in the network.\n",
      "🎉 All route edges are valid!\n"
     ]
    }
   ],
   "source": [
    "from lxml import etree\n",
    "\n",
    "# Paths to your files\n",
    "net_path = \"hangzhou_minimal.net.xml\"\n",
    "rou_path = \"hangzhou_minimal.rou.xml\"\n",
    "\n",
    "# 🧠 Load and parse both XML files\n",
    "net_tree = etree.parse(net_path)\n",
    "rou_tree = etree.parse(rou_path)\n",
    "\n",
    "# ✅ Get all valid edge IDs from the network\n",
    "valid_edges = set()\n",
    "for edge in net_tree.xpath(\"//edge\"):\n",
    "    edge_id = edge.get(\"id\")\n",
    "    if edge_id and not edge_id.startswith(\":\"):  # Skip internal edges\n",
    "        valid_edges.add(edge_id)\n",
    "\n",
    "print(f\"✅ Found {len(valid_edges)} valid edges in the network.\")\n",
    "\n",
    "# 🚨 Check each route in the .rou.xml\n",
    "invalid_routes = []\n",
    "for route in rou_tree.xpath(\"//route\"):\n",
    "    vehicle_id = route.getparent().get(\"id\", \"unknown\")  # try to grab the vehicle/container ID\n",
    "    route_edges = route.get(\"edges\", \"\").split()\n",
    "    for edge in route_edges:\n",
    "        if edge not in valid_edges:\n",
    "            print(f\"❌ Vehicle '{vehicle_id}' uses unknown edge: '{edge}'\")\n",
    "            invalid_routes.append((vehicle_id, edge))\n",
    "\n",
    "if not invalid_routes:\n",
    "    print(\"🎉 All route edges are valid!\")\n",
    "else:\n",
    "    print(f\"\\n🚨 Found {len(invalid_routes)} invalid edge references in the route file.\")\n"
   ]
  },
  {
   "cell_type": "code",
   "execution_count": 12,
   "metadata": {},
   "outputs": [
    {
     "name": "stdout",
     "output_type": "stream",
     "text": [
      "✅ Found 8 edges connected to intersection_1_1: ['road_1_0_1', 'road_1_1_0', 'road_1_1_2', 'road_1_1_3', 'road_1_1_1', 'road_2_1_2', 'road_1_2_3', 'road_0_1_0']\n",
      "✅ Stripped network to only include elements tied to: intersection_1_1\n",
      "💾 Saved cleaned net to hangzhou_minimal_surgical.net.xml\n"
     ]
    }
   ],
   "source": [
    "from lxml import etree\n",
    "\n",
    "net_path = \"hangzhou_minimal.net.xml\"\n",
    "output_path = \"hangzhou_minimal_surgical.net.xml\"\n",
    "target_tls = \"intersection_1_1\"\n",
    "\n",
    "tree = etree.parse(net_path)\n",
    "root = tree.getroot()\n",
    "\n",
    "# 🕵️ Step 1: Find all edges connected to intersection_1_1\n",
    "valid_edges = set()\n",
    "for edge in root.findall(\"edge\"):\n",
    "    if edge.get(\"function\") == \"internal\":\n",
    "        continue  # Skip internal edges\n",
    "    if edge.get(\"from\") == target_tls or edge.get(\"to\") == target_tls:\n",
    "        valid_edges.add(edge.get(\"id\"))\n",
    "\n",
    "print(f\"✅ Found {len(valid_edges)} edges connected to {target_tls}: {list(valid_edges)}\")\n",
    "\n",
    "# 🧼 Step 2: Remove unrelated edges\n",
    "for edge in root.findall(\"edge\"):\n",
    "    if edge.get(\"function\") != \"internal\" and edge.get(\"id\") not in valid_edges:\n",
    "        root.remove(edge)\n",
    "\n",
    "# 🎯 Step 3: Remove unrelated junctions\n",
    "for junction in root.findall(\"junction\"):\n",
    "    if junction.get(\"id\") != target_tls:\n",
    "        root.remove(junction)\n",
    "\n",
    "# ✂️ Step 4: Remove connections not tied to valid edges\n",
    "for conn in root.findall(\"connection\"):\n",
    "    from_edge = conn.get(\"from\")\n",
    "    to_edge = conn.get(\"to\")\n",
    "    if from_edge not in valid_edges and to_edge not in valid_edges:\n",
    "        root.remove(conn)\n",
    "\n",
    "print(\"✅ Stripped network to only include elements tied to:\", target_tls)\n",
    "\n",
    "# 💾 Save the new cleaned file\n",
    "tree.write(output_path, pretty_print=True, encoding=\"UTF-8\", xml_declaration=True)\n",
    "print(\"💾 Saved cleaned net to\", output_path)\n"
   ]
  },
  {
   "cell_type": "code",
   "execution_count": 7,
   "metadata": {},
   "outputs": [
    {
     "name": "stdout",
     "output_type": "stream",
     "text": [
      "✅ Existing edges: 0, lanes: 28\n",
      "🧹 Removed 48 invalid <connection> elements.\n"
     ]
    }
   ],
   "source": [
    "from lxml import etree\n",
    "\n",
    "# Load net file\n",
    "tree = etree.parse(\"hangzhou_minimal_cleaned.net.xml\")\n",
    "root = tree.getroot()\n",
    "\n",
    "# Gather all existing edge/lane IDs\n",
    "all_edges = set(e.get(\"id\") for e in root.findall(\"edge\") if not e.get(\"id\").startswith(\":\"))\n",
    "all_lanes = set()\n",
    "for edge in root.findall(\"edge\"):\n",
    "    for lane in edge.findall(\"lane\"):\n",
    "        all_lanes.add(lane.get(\"id\"))\n",
    "\n",
    "print(f\"✅ Existing edges: {len(all_edges)}, lanes: {len(all_lanes)}\")\n",
    "\n",
    "# Remove invalid <connection> elements\n",
    "connection_count = 0\n",
    "for conn in root.findall(\"connection\"):\n",
    "    from_edge = conn.get(\"from\")\n",
    "    to_edge = conn.get(\"to\")\n",
    "    from_lane = conn.get(\"fromLane\")\n",
    "    to_lane = conn.get(\"toLane\")\n",
    "\n",
    "    if from_edge not in all_edges or to_edge not in all_edges:\n",
    "        root.remove(conn)\n",
    "        connection_count += 1\n",
    "        continue\n",
    "\n",
    "    # Optional: check lane IDs too\n",
    "    from_lane_id = f\"{from_edge}_{from_lane}\" if from_lane else None\n",
    "    to_lane_id = f\"{to_edge}_{to_lane}\" if to_lane else None\n",
    "    if from_lane_id and from_lane_id not in all_lanes:\n",
    "        root.remove(conn)\n",
    "        connection_count += 1\n",
    "    elif to_lane_id and to_lane_id not in all_lanes:\n",
    "        root.remove(conn)\n",
    "        connection_count += 1\n",
    "\n",
    "print(f\"🧹 Removed {connection_count} invalid <connection> elements.\")\n",
    "\n",
    "# Save it back\n",
    "tree.write(\"hangzhou_minimal_cleaned_fixed.net.xml\", pretty_print=True, xml_declaration=True, encoding=\"UTF-8\")\n"
   ]
  },
  {
   "cell_type": "code",
   "execution_count": 13,
   "metadata": {},
   "outputs": [
    {
     "name": "stdout",
     "output_type": "stream",
     "text": [
      "✅ All route edges are valid!\n"
     ]
    }
   ],
   "source": [
    "from lxml import etree\n",
    "\n",
    "net_edges = {'road_1_0_1', 'road_1_1_0', 'road_1_1_2', 'road_1_1_3', 'road_1_1_1', 'road_2_1_2', 'road_1_2_3', 'road_0_1_0'}\n",
    "route_tree = etree.parse(\"hangzhou_minimal.rou.xml\")\n",
    "routes = route_tree.findall(\"route\")\n",
    "\n",
    "invalid = []\n",
    "for route in routes:\n",
    "    edges = route.get(\"edges\", \"\").split()\n",
    "    for edge in edges:\n",
    "        if edge not in net_edges:\n",
    "            invalid.append(edge)\n",
    "\n",
    "if invalid:\n",
    "    print(\"🚨 Invalid edges found in route file:\", invalid)\n",
    "else:\n",
    "    print(\"✅ All route edges are valid!\")\n"
   ]
  },
  {
   "cell_type": "code",
   "execution_count": 14,
   "metadata": {},
   "outputs": [
    {
     "name": "stdout",
     "output_type": "stream",
     "text": [
      "✅ Wrote: hangzhou_minimal_surgical_fixed.net.xml\n"
     ]
    }
   ],
   "source": [
    "from lxml import etree\n",
    "\n",
    "full_net_path = \"hangzhou_from_json.net.xml\"\n",
    "surgical_net_path = \"hangzhou_minimal_surgical.net.xml\"\n",
    "output_path = \"hangzhou_minimal_surgical_fixed.net.xml\"\n",
    "\n",
    "# Load full and surgical network XMLs\n",
    "full_tree = etree.parse(full_net_path)\n",
    "full_root = full_tree.getroot()\n",
    "\n",
    "surgical_tree = etree.parse(surgical_net_path)\n",
    "surgical_root = surgical_tree.getroot()\n",
    "\n",
    "# Collect all node IDs referenced in <edge> elements of the surgical net\n",
    "used_nodes = set()\n",
    "for edge in surgical_root.findall(\"edge\"):\n",
    "    from_node = edge.get(\"from\")\n",
    "    to_node = edge.get(\"to\")\n",
    "    if from_node:\n",
    "        used_nodes.add(from_node)\n",
    "    if to_node:\n",
    "        used_nodes.add(to_node)\n",
    "\n",
    "# Add back the corresponding <junction> tags from the full net\n",
    "full_junctions = {j.get(\"id\"): j for j in full_root.findall(\"junction\")}\n",
    "for node_id in used_nodes:\n",
    "    if node_id in full_junctions:\n",
    "        surgical_root.append(full_junctions[node_id])\n",
    "\n",
    "# Save the fixed network\n",
    "surgical_tree.write(output_path, pretty_print=True, xml_declaration=True, encoding=\"UTF-8\")\n",
    "print(\"✅ Wrote:\", output_path)\n"
   ]
  },
  {
   "cell_type": "code",
   "execution_count": 15,
   "metadata": {},
   "outputs": [
    {
     "name": "stdout",
     "output_type": "stream",
     "text": [
      "✅ Cleaned and saved to: hangzhou_minimal_surgical_fixed.net.xml\n"
     ]
    }
   ],
   "source": [
    "from lxml import etree\n",
    "\n",
    "net_path = \"hangzhou_minimal_surgical.net.xml\"\n",
    "out_path = \"hangzhou_minimal_surgical_fixed.net.xml\"\n",
    "\n",
    "tree = etree.parse(net_path)\n",
    "root = tree.getroot()\n",
    "\n",
    "# Only care about this one lonely intersection\n",
    "valid_tls = {\"intersection_1_1\"}\n",
    "valid_nodes = set(valid_tls)\n",
    "\n",
    "# Step 1: Keep only relevant edges\n",
    "edges_to_keep = set()\n",
    "for edge in root.findall(\"edge\"):\n",
    "    from_node = edge.get(\"from\")\n",
    "    to_node = edge.get(\"to\")\n",
    "    if from_node in valid_nodes or to_node in valid_nodes:\n",
    "        edges_to_keep.add(edge.get(\"id\"))\n",
    "\n",
    "# Step 2: Clean <edge> tags\n",
    "for edge in root.findall(\"edge\"):\n",
    "    if edge.get(\"id\") not in edges_to_keep:\n",
    "        root.remove(edge)\n",
    "\n",
    "# Step 3: Clean <connection> tags\n",
    "for conn in root.findall(\"connection\"):\n",
    "    if conn.get(\"from\") not in edges_to_keep and conn.get(\"to\") not in edges_to_keep:\n",
    "        root.remove(conn)\n",
    "\n",
    "# Step 4: Clean <junction> tags\n",
    "for junction in root.findall(\"junction\"):\n",
    "    if junction.get(\"id\") not in valid_nodes:\n",
    "        root.remove(junction)\n",
    "\n",
    "# Step 5: Clean <tlLogic> (keep only one!)\n",
    "seen_tls = False\n",
    "for logic in root.findall(\"tlLogic\"):\n",
    "    if logic.get(\"id\") == \"intersection_1_1\":\n",
    "        if not seen_tls:\n",
    "            seen_tls = True\n",
    "        else:\n",
    "            root.remove(logic)\n",
    "    else:\n",
    "        root.remove(logic)\n",
    "\n",
    "# Step 6: Clean <connection> with broken junction references\n",
    "for conn in root.findall(\"connection\"):\n",
    "    if conn.get(\"from\") not in edges_to_keep or conn.get(\"to\") not in edges_to_keep:\n",
    "        root.remove(conn)\n",
    "\n",
    "tree.write(out_path, pretty_print=True, xml_declaration=True, encoding=\"UTF-8\")\n",
    "print(f\"✅ Cleaned and saved to: {out_path}\")\n"
   ]
  },
  {
   "cell_type": "code",
   "execution_count": 17,
   "metadata": {},
   "outputs": [
    {
     "name": "stdout",
     "output_type": "stream",
     "text": [
      "✅ Cleaned and saved to edges.xml\n"
     ]
    }
   ],
   "source": [
    "from lxml import etree\n",
    "\n",
    "input_file = \"edges.xml\"\n",
    "output_file = \"edges.xml\"\n",
    "\n",
    "# Parse the messy file\n",
    "parser = etree.XMLParser(remove_blank_text=True)\n",
    "tree = etree.parse(input_file, parser)\n",
    "root = tree.getroot()\n",
    "\n",
    "# Pretty print and write to a new file\n",
    "tree.write(output_file, pretty_print=True, xml_declaration=True, encoding=\"UTF-8\")\n",
    "\n",
    "print(f\"✅ Cleaned and saved to {output_file}\")\n"
   ]
  },
  {
   "cell_type": "code",
   "execution_count": 18,
   "metadata": {},
   "outputs": [
    {
     "name": "stdout",
     "output_type": "stream",
     "text": [
      "✅ Updated edge definitions and saved to: edges.xml\n"
     ]
    }
   ],
   "source": [
    "from lxml import etree\n",
    "\n",
    "input_file = \"edges.xml\"\n",
    "output_file = \"edges.xml\"\n",
    "\n",
    "# Load XML\n",
    "parser = etree.XMLParser(remove_blank_text=True)\n",
    "tree = etree.parse(input_file, parser)\n",
    "root = tree.getroot()\n",
    "\n",
    "for edge in root.findall(\"edge\"):\n",
    "    lanes = edge.findall(\"lane\")\n",
    "    if lanes:\n",
    "        edge.set(\"numLanes\", str(len(lanes)))\n",
    "        edge.set(\"speed\", \"13.9\")  # You can customize this value\n",
    "\n",
    "# Save the cleaned-up version\n",
    "tree.write(output_file, pretty_print=True, xml_declaration=True, encoding=\"UTF-8\")\n",
    "\n",
    "print(f\"✅ Updated edge definitions and saved to: {output_file}\")\n"
   ]
  },
  {
   "cell_type": "code",
   "execution_count": 19,
   "metadata": {},
   "outputs": [
    {
     "name": "stdout",
     "output_type": "stream",
     "text": [
      "✅ Found 480 edges in network.\n",
      "🎉 All route edges are valid!\n"
     ]
    }
   ],
   "source": [
    "import xml.etree.ElementTree as ET\n",
    "\n",
    "# FILE PATHS — change as needed\n",
    "net_file = \"hangzhou.net.xml\"\n",
    "rou_file = \"hangzhou_from_json.rou.xml\"\n",
    "\n",
    "# Step 1: Extract all valid edge IDs from the .net.xml\n",
    "net_tree = ET.parse(net_file)\n",
    "net_root = net_tree.getroot()\n",
    "valid_edges = {edge.get(\"id\") for edge in net_root.findall(\"edge\")}\n",
    "\n",
    "print(f\"✅ Found {len(valid_edges)} edges in network.\")\n",
    "\n",
    "# Step 2: Check if each route only uses valid edges\n",
    "rou_tree = ET.parse(rou_file)\n",
    "rou_root = rou_tree.getroot()\n",
    "\n",
    "errors_found = 0\n",
    "for vehicle in rou_root.findall(\"vehicle\"):\n",
    "    route = vehicle.find(\"route\")\n",
    "    if route is not None:\n",
    "        edge_ids = route.get(\"edges\", \"\").split()\n",
    "        for edge_id in edge_ids:\n",
    "            if edge_id not in valid_edges:\n",
    "                print(f\"❌ Invalid edge in route: '{edge_id}' for vehicle '{vehicle.get('id')}'\")\n",
    "                errors_found += 1\n",
    "\n",
    "if errors_found == 0:\n",
    "    print(\"🎉 All route edges are valid!\")\n",
    "else:\n",
    "    print(f\"⚠️ Found {errors_found} invalid route edge references.\")\n"
   ]
  },
  {
   "cell_type": "code",
   "execution_count": 22,
   "metadata": {},
   "outputs": [
    {
     "name": "stdout",
     "output_type": "stream",
     "text": [
      "✅ Cleaned and saved: hangzhou.rou.xml\n"
     ]
    }
   ],
   "source": [
    "import xml.etree.ElementTree as ET\n",
    "\n",
    "def indent(elem, level=0):\n",
    "    i = \"\\n\" + level*\"  \"\n",
    "    if len(elem):\n",
    "        if not elem.text or not elem.text.strip():\n",
    "            elem.text = i + \"  \"\n",
    "        for child in elem:\n",
    "            indent(child, level+1)\n",
    "        if not child.tail or not child.tail.strip():\n",
    "            child.tail = i\n",
    "    if level and (not elem.tail or not elem.tail.strip()):\n",
    "        elem.tail = i\n",
    "    return elem\n",
    "\n",
    "# Input/output paths\n",
    "input_file = \"hangzhou.rou.xml\"\n",
    "output_file = \"hangzhou.rou.xml\"\n",
    "\n",
    "\n",
    "tree = ET.parse(input_file)\n",
    "root = tree.getroot()\n",
    "\n",
    "# Pretty format the XML\n",
    "indent(root)\n",
    "\n",
    "tree.write(output_file, encoding=\"utf-8\", xml_declaration=True)\n",
    "print(f\"✅ Cleaned and saved: {output_file}\")\n"
   ]
  },
  {
   "cell_type": "code",
   "execution_count": 23,
   "metadata": {},
   "outputs": [
    {
     "name": "stdout",
     "output_type": "stream",
     "text": [
      "✅ Vehicles sorted by depart time → saved to 'hangzhou.rou.sorted.xml'\n"
     ]
    }
   ],
   "source": [
    "import xml.etree.ElementTree as ET\n",
    "\n",
    "rou_file = \"hangzhou.rou.xml\"\n",
    "tree = ET.parse(rou_file)\n",
    "root = tree.getroot()\n",
    "\n",
    "# Separate header tags from vehicles\n",
    "header = []\n",
    "vehicles = []\n",
    "\n",
    "for elem in root:\n",
    "    if elem.tag == \"vehicle\":\n",
    "        vehicles.append(elem)\n",
    "    else:\n",
    "        header.append(elem)\n",
    "\n",
    "# Sort vehicles by depart time\n",
    "vehicles.sort(key=lambda v: float(v.attrib.get(\"depart\", 0)))\n",
    "\n",
    "# Rebuild the XML\n",
    "root.clear()\n",
    "for elem in header + vehicles:\n",
    "    root.append(elem)\n",
    "\n",
    "# Write back to file\n",
    "tree.write(\"hangzhou.rou.sorted.xml\", encoding=\"utf-8\", xml_declaration=True)\n",
    "print(\"✅ Vehicles sorted by depart time → saved to 'hangzhou.rou.sorted.xml'\")\n"
   ]
  },
  {
   "cell_type": "code",
   "execution_count": null,
   "metadata": {},
   "outputs": [],
   "source": []
  }
 ],
 "metadata": {
  "kernelspec": {
   "display_name": "Python 3",
   "language": "python",
   "name": "python3"
  },
  "language_info": {
   "codemirror_mode": {
    "name": "ipython",
    "version": 3
   },
   "file_extension": ".py",
   "mimetype": "text/x-python",
   "name": "python",
   "nbconvert_exporter": "python",
   "pygments_lexer": "ipython3",
   "version": "3.11.10"
  },
  "orig_nbformat": 4
 },
 "nbformat": 4,
 "nbformat_minor": 2
}
